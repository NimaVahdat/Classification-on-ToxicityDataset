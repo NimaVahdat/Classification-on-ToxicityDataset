{
 "cells": [
  {
   "cell_type": "markdown",
   "metadata": {},
   "source": [
    "# Predict Acute Oral Systemic Toxicity                   Nima Vahdat 610397163"
   ]
  },
  {
   "cell_type": "code",
   "execution_count": 1,
   "metadata": {},
   "outputs": [],
   "source": [
    "import pandas as pd\n",
    "import numpy as np\n",
    "from sklearn.decomposition import PCA\n",
    "from sklearn.metrics import confusion_matrix\n",
    "from sklearn.neighbors import KNeighborsClassifier as KNN\n",
    "from sklearn.ensemble import RandomForestClassifier as RForest\n",
    "from sklearn.neural_network import MLPClassifier\n",
    "from sklearn.metrics import accuracy_score \n",
    "from sklearn.metrics import classification_report\n",
    "from sklearn.naive_bayes import GaussianNB\n",
    "from sklearn.model_selection import cross_val_score\n",
    "from sklearn.ensemble import AdaBoostClassifier, GradientBoostingClassifier, VotingClassifier\n",
    "import warnings\n",
    "warnings.filterwarnings(\"ignore\")\n",
    "\n",
    "\n",
    "index_ = []\n",
    "accuracy = []\n",
    "fold = []"
   ]
  },
  {
   "cell_type": "markdown",
   "metadata": {},
   "source": [
    "Here we import our dataset and prepare it to be a useable dataset."
   ]
  },
  {
   "cell_type": "code",
   "execution_count": 2,
   "metadata": {},
   "outputs": [],
   "source": [
    "data=pd.read_csv('qsar_oral_toxicity.csv')\n",
    "x = []\n",
    "y = []\n",
    "\n",
    "datalist = data.values.tolist()\n",
    "for i in datalist:\n",
    "    for j in i:\n",
    "        x.append(j.split(';')[:-1])\n",
    "        y.append(j.split(';')[-1])"
   ]
  },
  {
   "cell_type": "markdown",
   "metadata": {},
   "source": [
    "\n",
    "Using PCA to reduce the dimensionality to \"512\" components.\n"
   ]
  },
  {
   "cell_type": "code",
   "execution_count": 3,
   "metadata": {},
   "outputs": [],
   "source": [
    "pca = PCA(n_components=512)\n",
    "principalComponents = pca.fit_transform(x)"
   ]
  },
  {
   "cell_type": "markdown",
   "metadata": {},
   "source": [
    "### Encoding categorial data"
   ]
  },
  {
   "cell_type": "code",
   "execution_count": 4,
   "metadata": {},
   "outputs": [],
   "source": [
    "from sklearn.preprocessing import LabelEncoder\n",
    "labelencoder_y = LabelEncoder()\n",
    "y = labelencoder_y.fit_transform(y)"
   ]
  },
  {
   "cell_type": "markdown",
   "metadata": {},
   "source": [
    "### Splitting the dataset\n",
    "   The dataset divided into a calibration set (75%) and validation set\n",
    "(25%) and calibration were further divided into a training and a test set, \n",
    "containing respectively 75% and 25% of the molecules included in the calibration set"
   ]
  },
  {
   "cell_type": "code",
   "execution_count": 5,
   "metadata": {},
   "outputs": [],
   "source": [
    "from sklearn.model_selection import train_test_split\n",
    "x_calibration, x_validation, y_calibration, y_validation = train_test_split(principalComponents, y,\\\n",
    "                                                                            test_size = 0.25, random_state = 0)\n",
    "x_train, x_test, y_train, y_test = train_test_split(x_calibration, y_calibration, test_size = 0.25, random_state = 0)"
   ]
  },
  {
   "cell_type": "markdown",
   "metadata": {},
   "source": [
    "### Feature Scaling"
   ]
  },
  {
   "cell_type": "code",
   "execution_count": 6,
   "metadata": {},
   "outputs": [],
   "source": [
    "from sklearn.preprocessing import StandardScaler\n",
    "sc = StandardScaler()\n",
    "x_calibration = sc.fit_transform(x_calibration)\n",
    "x_validation = sc.transform(x_validation)"
   ]
  },
  {
   "cell_type": "markdown",
   "metadata": {},
   "source": [
    "### Defining score function"
   ]
  },
  {
   "cell_type": "code",
   "execution_count": 7,
   "metadata": {},
   "outputs": [],
   "source": [
    "def get_score(clf, x_train, x_test, y_train, y_test, x_validation, y_validation):\n",
    "    global index_, accuracy\n",
    "    clf.fit(x_train, y_train)\n",
    "    y_pred_test = clf.predict(x_test)\n",
    "    y_pred_valid = clf.predict(x_validation)\n",
    "    index_.append(clf.__class__.__name__)\n",
    "    accuracy_ = accuracy_score(y_test, y_pred_test) \n",
    "    accuracy.append(accuracy_)\n",
    "    \n",
    "    print(\"\\n========\"+clf.__class__.__name__+\" classifying results=======\")\n",
    "    print(\"\\n ON TEST\")\n",
    "    print(\"Confusion Matrix of test : \")\n",
    "    print(confusion_matrix(y_test, y_pred_test))\n",
    "    print(\"Accuracy on test:\",accuracy_)\n",
    "    print(\"Classification report of test:\")\n",
    "    print(classification_report(y_test, y_pred_test), \"\\n\")\n",
    "    print(\"\\n ON VALIDATION\")\n",
    "    print(\"Confusion Matrix of validation : \")\n",
    "    print(confusion_matrix(y_validation, y_pred_valid))\n",
    "    print(\"Accuracy on validation:\",accuracy_score(y_validation, y_pred_valid))\n",
    "    print(\"Classification report of validation:\")\n",
    "    print(classification_report(y_validation, y_pred_valid))\n",
    "    return"
   ]
  },
  {
   "cell_type": "markdown",
   "metadata": {},
   "source": [
    "### Determinig Score using 10-fold crossvalidation"
   ]
  },
  {
   "cell_type": "code",
   "execution_count": 8,
   "metadata": {},
   "outputs": [],
   "source": [
    "def score_fold(clf, x, y):\n",
    "    global fold\n",
    "    l = cross_val_score(clf, x, y, cv = 10)\n",
    "    score = 0\n",
    "    for i in l:\n",
    "        score += i\n",
    "    final = score/len(l)\n",
    "    print(final)\n",
    "    fold.append(final)\n",
    "    return"
   ]
  },
  {
   "cell_type": "markdown",
   "metadata": {},
   "source": [
    "# Classifying with KNN\n",
    "   * Validation in paper"
   ]
  },
  {
   "cell_type": "code",
   "execution_count": 9,
   "metadata": {
    "scrolled": false
   },
   "outputs": [
    {
     "name": "stdout",
     "output_type": "stream",
     "text": [
      "\n",
      "========KNeighborsClassifier classifying results=======\n",
      "\n",
      " ON TEST\n",
      "Confusion Matrix of test : \n",
      "[[1502   38]\n",
      " [  82   64]]\n",
      "Accuracy on test: 0.9288256227758007\n",
      "Classification report of test:\n",
      "              precision    recall  f1-score   support\n",
      "\n",
      "           0       0.95      0.98      0.96      1540\n",
      "           1       0.63      0.44      0.52       146\n",
      "\n",
      "   micro avg       0.93      0.93      0.93      1686\n",
      "   macro avg       0.79      0.71      0.74      1686\n",
      "weighted avg       0.92      0.93      0.92      1686\n",
      " \n",
      "\n",
      "\n",
      " ON VALIDATION\n",
      "Confusion Matrix of validation : \n",
      "[[2023   55]\n",
      " [  93   77]]\n",
      "Accuracy on validation: 0.9341637010676157\n",
      "Classification report of validation:\n",
      "              precision    recall  f1-score   support\n",
      "\n",
      "           0       0.96      0.97      0.96      2078\n",
      "           1       0.58      0.45      0.51       170\n",
      "\n",
      "   micro avg       0.93      0.93      0.93      2248\n",
      "   macro avg       0.77      0.71      0.74      2248\n",
      "weighted avg       0.93      0.93      0.93      2248\n",
      "\n"
     ]
    }
   ],
   "source": [
    "get_score(KNN(n_neighbors = 3), x_train, x_test, y_train, y_test, x_validation, y_validation)"
   ]
  },
  {
   "cell_type": "markdown",
   "metadata": {},
   "source": [
    "   * 10-fold crossvalidation\n",
    "       (The result is showing the avg-Score.)"
   ]
  },
  {
   "cell_type": "code",
   "execution_count": 10,
   "metadata": {},
   "outputs": [
    {
     "name": "stdout",
     "output_type": "stream",
     "text": [
      "0.9295963416141392\n"
     ]
    }
   ],
   "source": [
    "score_fold(KNN(n_neighbors = 3), pd.DataFrame(x), np.ravel(pd.DataFrame(y), order='C'))"
   ]
  },
  {
   "cell_type": "markdown",
   "metadata": {},
   "source": [
    "# Classifying with Random Forest\n",
    "   * Validation in paper"
   ]
  },
  {
   "cell_type": "code",
   "execution_count": 11,
   "metadata": {},
   "outputs": [
    {
     "name": "stdout",
     "output_type": "stream",
     "text": [
      "\n",
      "========RandomForestClassifier classifying results=======\n",
      "\n",
      " ON TEST\n",
      "Confusion Matrix of test : \n",
      "[[1530   10]\n",
      " [ 128   18]]\n",
      "Accuracy on test: 0.9181494661921709\n",
      "Classification report of test:\n",
      "              precision    recall  f1-score   support\n",
      "\n",
      "           0       0.92      0.99      0.96      1540\n",
      "           1       0.64      0.12      0.21       146\n",
      "\n",
      "   micro avg       0.92      0.92      0.92      1686\n",
      "   macro avg       0.78      0.56      0.58      1686\n",
      "weighted avg       0.90      0.92      0.89      1686\n",
      " \n",
      "\n",
      "\n",
      " ON VALIDATION\n",
      "Confusion Matrix of validation : \n",
      "[[ 942 1136]\n",
      " [  78   92]]\n",
      "Accuracy on validation: 0.4599644128113879\n",
      "Classification report of validation:\n",
      "              precision    recall  f1-score   support\n",
      "\n",
      "           0       0.92      0.45      0.61      2078\n",
      "           1       0.07      0.54      0.13       170\n",
      "\n",
      "   micro avg       0.46      0.46      0.46      2248\n",
      "   macro avg       0.50      0.50      0.37      2248\n",
      "weighted avg       0.86      0.46      0.57      2248\n",
      "\n"
     ]
    }
   ],
   "source": [
    "get_score(RForest(max_depth = 300), x_train, x_test, y_train, y_test, x_validation, y_validation)"
   ]
  },
  {
   "cell_type": "markdown",
   "metadata": {},
   "source": [
    "   * 10-fold crossvalidation\n",
    "        (The result is showing the avg-Score.)"
   ]
  },
  {
   "cell_type": "code",
   "execution_count": 12,
   "metadata": {},
   "outputs": [
    {
     "name": "stdout",
     "output_type": "stream",
     "text": [
      "0.9342680756395995\n"
     ]
    }
   ],
   "source": [
    "score_fold(RForest(max_depth = 300), pd.DataFrame(x), np.ravel(pd.DataFrame(y), order='C'))"
   ]
  },
  {
   "cell_type": "markdown",
   "metadata": {},
   "source": [
    "# Classifying with Gradient Boosting\n",
    "   * Validation in paper"
   ]
  },
  {
   "cell_type": "code",
   "execution_count": 13,
   "metadata": {},
   "outputs": [
    {
     "name": "stdout",
     "output_type": "stream",
     "text": [
      "\n",
      "========GradientBoostingClassifier classifying results=======\n",
      "\n",
      " ON TEST\n",
      "Confusion Matrix of test : \n",
      "[[1526   14]\n",
      " [ 114   32]]\n",
      "Accuracy on test: 0.9240806642941874\n",
      "Classification report of test:\n",
      "              precision    recall  f1-score   support\n",
      "\n",
      "           0       0.93      0.99      0.96      1540\n",
      "           1       0.70      0.22      0.33       146\n",
      "\n",
      "   micro avg       0.92      0.92      0.92      1686\n",
      "   macro avg       0.81      0.61      0.65      1686\n",
      "weighted avg       0.91      0.92      0.91      1686\n",
      " \n",
      "\n",
      "\n",
      " ON VALIDATION\n",
      "Confusion Matrix of validation : \n",
      "[[ 109 1969]\n",
      " [   4  166]]\n",
      "Accuracy on validation: 0.12233096085409252\n",
      "Classification report of validation:\n",
      "              precision    recall  f1-score   support\n",
      "\n",
      "           0       0.96      0.05      0.10      2078\n",
      "           1       0.08      0.98      0.14       170\n",
      "\n",
      "   micro avg       0.12      0.12      0.12      2248\n",
      "   macro avg       0.52      0.51      0.12      2248\n",
      "weighted avg       0.90      0.12      0.10      2248\n",
      "\n"
     ]
    }
   ],
   "source": [
    "get_score(GradientBoostingClassifier(random_state = 0), x_train, x_test, y_train, y_test, x_validation, y_validation)"
   ]
  },
  {
   "cell_type": "markdown",
   "metadata": {},
   "source": [
    "   * 10-fold crossvalidation\n",
    "        (The result is showing the avg-Score.)"
   ]
  },
  {
   "cell_type": "code",
   "execution_count": 14,
   "metadata": {},
   "outputs": [
    {
     "name": "stdout",
     "output_type": "stream",
     "text": [
      "0.9318209121245827\n"
     ]
    }
   ],
   "source": [
    "score_fold(GradientBoostingClassifier(random_state = 0), pd.DataFrame(x), np.ravel(pd.DataFrame(y), order='C'))"
   ]
  },
  {
   "cell_type": "markdown",
   "metadata": {},
   "source": [
    "# Classifying with Ada Boosting\n",
    "   * Validation in paper"
   ]
  },
  {
   "cell_type": "code",
   "execution_count": 15,
   "metadata": {},
   "outputs": [
    {
     "name": "stdout",
     "output_type": "stream",
     "text": [
      "\n",
      "========AdaBoostClassifier classifying results=======\n",
      "\n",
      " ON TEST\n",
      "Confusion Matrix of test : \n",
      "[[1512   28]\n",
      " [ 109   37]]\n",
      "Accuracy on test: 0.9187425860023725\n",
      "Classification report of test:\n",
      "              precision    recall  f1-score   support\n",
      "\n",
      "           0       0.93      0.98      0.96      1540\n",
      "           1       0.57      0.25      0.35       146\n",
      "\n",
      "   micro avg       0.92      0.92      0.92      1686\n",
      "   macro avg       0.75      0.62      0.65      1686\n",
      "weighted avg       0.90      0.92      0.90      1686\n",
      " \n",
      "\n",
      "\n",
      " ON VALIDATION\n",
      "Confusion Matrix of validation : \n",
      "[[1887  191]\n",
      " [ 127   43]]\n",
      "Accuracy on validation: 0.858540925266904\n",
      "Classification report of validation:\n",
      "              precision    recall  f1-score   support\n",
      "\n",
      "           0       0.94      0.91      0.92      2078\n",
      "           1       0.18      0.25      0.21       170\n",
      "\n",
      "   micro avg       0.86      0.86      0.86      2248\n",
      "   macro avg       0.56      0.58      0.57      2248\n",
      "weighted avg       0.88      0.86      0.87      2248\n",
      "\n"
     ]
    }
   ],
   "source": [
    "get_score(AdaBoostClassifier(n_estimators=100, random_state=0), x_train, x_test, y_train, y_test, x_validation, y_validation)"
   ]
  },
  {
   "cell_type": "markdown",
   "metadata": {},
   "source": [
    "   * 10-fold crossvalidation\n",
    "        (The result is showing the avg-Score.)"
   ]
  },
  {
   "cell_type": "code",
   "execution_count": 16,
   "metadata": {},
   "outputs": [
    {
     "name": "stdout",
     "output_type": "stream",
     "text": [
      "0.92125361512792\n"
     ]
    }
   ],
   "source": [
    "score_fold(AdaBoostClassifier(n_estimators=100, random_state=0), pd.DataFrame(x), np.ravel(pd.DataFrame(y), order='C'))"
   ]
  },
  {
   "cell_type": "markdown",
   "metadata": {},
   "source": [
    "# Classifying with MLP\n",
    "   * Validation in paper"
   ]
  },
  {
   "cell_type": "code",
   "execution_count": 17,
   "metadata": {},
   "outputs": [
    {
     "name": "stdout",
     "output_type": "stream",
     "text": [
      "\n",
      "========MLPClassifier classifying results=======\n",
      "\n",
      " ON TEST\n",
      "Confusion Matrix of test : \n",
      "[[1502   38]\n",
      " [  82   64]]\n",
      "Accuracy on test: 0.9288256227758007\n",
      "Classification report of test:\n",
      "              precision    recall  f1-score   support\n",
      "\n",
      "           0       0.95      0.98      0.96      1540\n",
      "           1       0.63      0.44      0.52       146\n",
      "\n",
      "   micro avg       0.93      0.93      0.93      1686\n",
      "   macro avg       0.79      0.71      0.74      1686\n",
      "weighted avg       0.92      0.93      0.92      1686\n",
      " \n",
      "\n",
      "\n",
      " ON VALIDATION\n",
      "Confusion Matrix of validation : \n",
      "[[1768  310]\n",
      " [  87   83]]\n",
      "Accuracy on validation: 0.8233985765124555\n",
      "Classification report of validation:\n",
      "              precision    recall  f1-score   support\n",
      "\n",
      "           0       0.95      0.85      0.90      2078\n",
      "           1       0.21      0.49      0.29       170\n",
      "\n",
      "   micro avg       0.82      0.82      0.82      2248\n",
      "   macro avg       0.58      0.67      0.60      2248\n",
      "weighted avg       0.90      0.82      0.85      2248\n",
      "\n"
     ]
    }
   ],
   "source": [
    "get_score(MLPClassifier(random_state=1, max_iter=300), x_train, x_test, y_train, y_test, x_validation, y_validation)"
   ]
  },
  {
   "cell_type": "markdown",
   "metadata": {},
   "source": [
    "   * 10-fold crossvalidation\n",
    "        (The result is showing the avg-Score.)"
   ]
  },
  {
   "cell_type": "code",
   "execution_count": 18,
   "metadata": {},
   "outputs": [
    {
     "name": "stdout",
     "output_type": "stream",
     "text": [
      "0.9356020269435176\n"
     ]
    }
   ],
   "source": [
    "score_fold(MLPClassifier(random_state=1, max_iter=300), pd.DataFrame(x), np.ravel(pd.DataFrame(y), order='C'))"
   ]
  },
  {
   "cell_type": "markdown",
   "metadata": {},
   "source": [
    "# Classifying with NB\n",
    "   * Validation in paper"
   ]
  },
  {
   "cell_type": "code",
   "execution_count": 19,
   "metadata": {},
   "outputs": [
    {
     "name": "stdout",
     "output_type": "stream",
     "text": [
      "\n",
      "========GaussianNB classifying results=======\n",
      "\n",
      " ON TEST\n",
      "Confusion Matrix of test : \n",
      "[[1489   51]\n",
      " [  83   63]]\n",
      "Accuracy on test: 0.9205219454329775\n",
      "Classification report of test:\n",
      "              precision    recall  f1-score   support\n",
      "\n",
      "           0       0.95      0.97      0.96      1540\n",
      "           1       0.55      0.43      0.48       146\n",
      "\n",
      "   micro avg       0.92      0.92      0.92      1686\n",
      "   macro avg       0.75      0.70      0.72      1686\n",
      "weighted avg       0.91      0.92      0.92      1686\n",
      " \n",
      "\n",
      "\n",
      " ON VALIDATION\n",
      "Confusion Matrix of validation : \n",
      "[[ 702 1376]\n",
      " [  29  141]]\n",
      "Accuracy on validation: 0.375\n",
      "Classification report of validation:\n",
      "              precision    recall  f1-score   support\n",
      "\n",
      "           0       0.96      0.34      0.50      2078\n",
      "           1       0.09      0.83      0.17       170\n",
      "\n",
      "   micro avg       0.38      0.38      0.38      2248\n",
      "   macro avg       0.53      0.58      0.33      2248\n",
      "weighted avg       0.89      0.38      0.47      2248\n",
      "\n"
     ]
    }
   ],
   "source": [
    "get_score(GaussianNB(), x_train, x_test, y_train, y_test, x_validation, y_validation)"
   ]
  },
  {
   "cell_type": "markdown",
   "metadata": {},
   "source": [
    "   * 10-fold crossvalidation\n",
    "        (The result is showing the avg-Score.)"
   ]
  },
  {
   "cell_type": "code",
   "execution_count": 20,
   "metadata": {},
   "outputs": [
    {
     "name": "stdout",
     "output_type": "stream",
     "text": [
      "0.7574273884563094\n"
     ]
    }
   ],
   "source": [
    "score_fold(GaussianNB(), pd.DataFrame(x), np.ravel(pd.DataFrame(y), order='C'))"
   ]
  },
  {
   "cell_type": "markdown",
   "metadata": {},
   "source": [
    "# Clustering the dataset"
   ]
  },
  {
   "cell_type": "code",
   "execution_count": 21,
   "metadata": {
    "scrolled": true
   },
   "outputs": [
    {
     "name": "stdout",
     "output_type": "stream",
     "text": [
      "KMeans(algorithm='auto', copy_x=True, init='k-means++', max_iter=300,\n",
      "    n_clusters=2, n_init=10, n_jobs=None, precompute_distances='auto',\n",
      "    random_state=None, tol=0.0001, verbose=0)\n"
     ]
    }
   ],
   "source": [
    "import matplotlib.pyplot as plt\n",
    "%matplotlib inline\n",
    "from sklearn.cluster import KMeans\n",
    "\n",
    "kmeans = KMeans(n_clusters=2)\n",
    "kmeans.fit(x)\n",
    "print(kmeans)"
   ]
  },
  {
   "cell_type": "code",
   "execution_count": 22,
   "metadata": {},
   "outputs": [],
   "source": [
    "import scipy\n",
    "def find_permutation(n_clusters, real_labels, labels):\n",
    "    permutation=[]\n",
    "    for i in range(n_clusters):\n",
    "        idx = labels == i\n",
    "        new_label=scipy.stats.mode(real_labels[idx])[0][0]\n",
    "        permutation.append(new_label)\n",
    "    return permutation"
   ]
  },
  {
   "cell_type": "code",
   "execution_count": 23,
   "metadata": {},
   "outputs": [],
   "source": [
    "permutation = find_permutation(2, y, kmeans.labels_)"
   ]
  },
  {
   "cell_type": "code",
   "execution_count": 24,
   "metadata": {},
   "outputs": [
    {
     "name": "stdout",
     "output_type": "stream",
     "text": [
      "Accuracy score is 0.9175842509175842\n"
     ]
    }
   ],
   "source": [
    "new_labels = [ permutation[label] for label in kmeans.labels_]\n",
    "print(\"Accuracy score is\", accuracy_score(y, new_labels))"
   ]
  },
  {
   "cell_type": "markdown",
   "metadata": {},
   "source": [
    "# Classifications summary result"
   ]
  },
  {
   "cell_type": "code",
   "execution_count": 26,
   "metadata": {},
   "outputs": [
    {
     "name": "stdout",
     "output_type": "stream",
     "text": [
      "                            Accuracy  10-fold crossvalidation\n",
      "KNeighborsClassifier        0.928826                 0.929596\n",
      "RandomForestClassifier      0.918149                 0.934268\n",
      "GradientBoostingClassifier  0.924081                 0.931821\n",
      "AdaBoostClassifier          0.918743                 0.921254\n",
      "MLPClassifier               0.928826                 0.935602\n",
      "GaussianNB                  0.920522                 0.757427\n"
     ]
    }
   ],
   "source": [
    "data = {'Accuracy':accuracy,'10-fold crossvalidation':fold}\n",
    "re = pd.DataFrame(data, index = index_)\n",
    "print(re)"
   ]
  },
  {
   "cell_type": "markdown",
   "metadata": {},
   "source": [
    "    "
   ]
  },
  {
   "cell_type": "markdown",
   "metadata": {},
   "source": [
    "\n",
    "\n",
    "\n"
   ]
  },
  {
   "cell_type": "markdown",
   "metadata": {},
   "source": [
    "\n",
    "\n",
    "\n",
    "\n",
    "\n",
    "\n"
   ]
  },
  {
   "cell_type": "markdown",
   "metadata": {},
   "source": [
    "\n",
    "\n",
    "\n",
    "\n"
   ]
  },
  {
   "cell_type": "markdown",
   "metadata": {},
   "source": [
    "\n",
    "\n",
    "\n",
    "\n",
    "\n",
    "\n"
   ]
  },
  {
   "cell_type": "markdown",
   "metadata": {},
   "source": [
    "\n",
    "\n",
    "\n",
    "\n"
   ]
  }
 ],
 "metadata": {
  "kernelspec": {
   "display_name": "Python 3",
   "language": "python",
   "name": "python3"
  },
  "language_info": {
   "codemirror_mode": {
    "name": "ipython",
    "version": 3
   },
   "file_extension": ".py",
   "mimetype": "text/x-python",
   "name": "python",
   "nbconvert_exporter": "python",
   "pygments_lexer": "ipython3",
   "version": "3.7.1"
  }
 },
 "nbformat": 4,
 "nbformat_minor": 2
}
