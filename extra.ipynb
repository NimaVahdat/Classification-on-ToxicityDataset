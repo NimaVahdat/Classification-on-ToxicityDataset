{
 "cells": [
  {
   "cell_type": "markdown",
   "metadata": {},
   "source": [
    "# Predict Acute Oral Systemic Toxicity(ANN classifier using Keras)                  Nima Vahdat 610397163"
   ]
  },
  {
   "cell_type": "code",
   "execution_count": 1,
   "metadata": {},
   "outputs": [],
   "source": [
    "import numpy as np\n",
    "import pandas as pd \n",
    "import matplotlib.pyplot as plt\n",
    "from sklearn.neural_network import MLPClassifier\n",
    "from sklearn.impute import SimpleImputer\n",
    "from sklearn.preprocessing import StandardScaler\n",
    "from sklearn.decomposition import PCA\n",
    "from sklearn.metrics import accuracy_score \n",
    "from sklearn.metrics import classification_report\n",
    "import warnings\n",
    "warnings.filterwarnings(\"ignore\")"
   ]
  },
  {
   "cell_type": "markdown",
   "metadata": {},
   "source": [
    "## importing dataset and preparation"
   ]
  },
  {
   "cell_type": "code",
   "execution_count": 2,
   "metadata": {},
   "outputs": [],
   "source": [
    "data=pd.read_csv('qsar_oral_toxicity.csv')\n",
    "\n",
    "x= []\n",
    "y = []\n",
    "\n",
    "datalist = data.values.tolist()\n",
    "for i in datalist:\n",
    "    for j in i:\n",
    "        x.append(j.split(';')[:-1])\n",
    "        y.append(j.split(';')[-1])"
   ]
  },
  {
   "cell_type": "markdown",
   "metadata": {},
   "source": [
    "## Dimensionality Reduction"
   ]
  },
  {
   "cell_type": "code",
   "execution_count": 3,
   "metadata": {},
   "outputs": [],
   "source": [
    "pca = PCA(n_components=512)\n",
    "principalComponents = pca.fit_transform(x)"
   ]
  },
  {
   "cell_type": "markdown",
   "metadata": {},
   "source": [
    "## Encoding categorical data"
   ]
  },
  {
   "cell_type": "code",
   "execution_count": 4,
   "metadata": {},
   "outputs": [],
   "source": [
    "from sklearn.preprocessing import LabelEncoder\n",
    "labelencoder_y = LabelEncoder()\n",
    "y = labelencoder_y.fit_transform(y)"
   ]
  },
  {
   "cell_type": "markdown",
   "metadata": {},
   "source": [
    "##Splitting the dataset into the Training set and Test set"
   ]
  },
  {
   "cell_type": "code",
   "execution_count": 5,
   "metadata": {},
   "outputs": [],
   "source": [
    "from sklearn.model_selection import train_test_split\n",
    "X_train, X_test, y_train, y_test = train_test_split(principalComponents, y, test_size = 0.25, random_state = 0)"
   ]
  },
  {
   "cell_type": "markdown",
   "metadata": {},
   "source": [
    "## Feature Scaling"
   ]
  },
  {
   "cell_type": "code",
   "execution_count": 6,
   "metadata": {},
   "outputs": [],
   "source": [
    "sc = StandardScaler()\n",
    "X_train = sc.fit_transform(X_train)\n",
    "X_test = sc.transform(X_test)"
   ]
  },
  {
   "cell_type": "markdown",
   "metadata": {},
   "source": [
    "## Making the ANN"
   ]
  },
  {
   "cell_type": "code",
   "execution_count": 7,
   "metadata": {},
   "outputs": [
    {
     "name": "stderr",
     "output_type": "stream",
     "text": [
      "Using TensorFlow backend.\n"
     ]
    },
    {
     "name": "stdout",
     "output_type": "stream",
     "text": [
      "WARNING:tensorflow:From E:\\New folder (2)\\lib\\site-packages\\tensorflow\\python\\ops\\resource_variable_ops.py:435: colocate_with (from tensorflow.python.framework.ops) is deprecated and will be removed in a future version.\n",
      "Instructions for updating:\n",
      "Colocations handled automatically by placer.\n",
      "WARNING:tensorflow:From E:\\New folder (2)\\lib\\site-packages\\tensorflow\\python\\ops\\math_ops.py:3066: to_int32 (from tensorflow.python.ops.math_ops) is deprecated and will be removed in a future version.\n",
      "Instructions for updating:\n",
      "Use tf.cast instead.\n",
      "Epoch 1/100\n",
      "6743/6743 [==============================] - 2s 316us/step - loss: 0.2472 - accuracy: 0.9164\n",
      "Epoch 2/100\n",
      "6743/6743 [==============================] - 2s 260us/step - loss: 0.1473 - accuracy: 0.9444\n",
      "Epoch 3/100\n",
      "6743/6743 [==============================] - 2s 252us/step - loss: 0.0969 - accuracy: 0.9654\n",
      "Epoch 4/100\n",
      "6743/6743 [==============================] - 2s 259us/step - loss: 0.0617 - accuracy: 0.9781\n",
      "Epoch 5/100\n",
      "6743/6743 [==============================] - 2s 281us/step - loss: 0.0444 - accuracy: 0.9853\n",
      "Epoch 6/100\n",
      "6743/6743 [==============================] - 2s 243us/step - loss: 0.0349 - accuracy: 0.9886\n",
      "Epoch 7/100\n",
      "6743/6743 [==============================] - 2s 276us/step - loss: 0.0311 - accuracy: 0.9918\n",
      "Epoch 8/100\n",
      "6743/6743 [==============================] - 2s 235us/step - loss: 0.0345 - accuracy: 0.9913\n",
      "Epoch 9/100\n",
      "6743/6743 [==============================] - 2s 260us/step - loss: 0.0264 - accuracy: 0.9929\n",
      "Epoch 10/100\n",
      "6743/6743 [==============================] - 2s 264us/step - loss: 0.0158 - accuracy: 0.9953\n",
      "Epoch 11/100\n",
      "6743/6743 [==============================] - 2s 276us/step - loss: 0.0302 - accuracy: 0.9913\n",
      "Epoch 12/100\n",
      "6743/6743 [==============================] - 2s 276us/step - loss: 0.0247 - accuracy: 0.9935\n",
      "Epoch 13/100\n",
      "6743/6743 [==============================] - 2s 290us/step - loss: 0.0148 - accuracy: 0.9958\n",
      "Epoch 14/100\n",
      "6743/6743 [==============================] - 2s 254us/step - loss: 0.0151 - accuracy: 0.9958\n",
      "Epoch 15/100\n",
      "6743/6743 [==============================] - 2s 264us/step - loss: 0.0103 - accuracy: 0.9973\n",
      "Epoch 16/100\n",
      "6743/6743 [==============================] - 2s 264us/step - loss: 0.0046 - accuracy: 0.9978\n",
      "Epoch 17/100\n",
      "6743/6743 [==============================] - 2s 280us/step - loss: 0.0034 - accuracy: 0.9981\n",
      "Epoch 18/100\n",
      "6743/6743 [==============================] - 2s 272us/step - loss: 0.0037 - accuracy: 0.9981\n",
      "Epoch 19/100\n",
      "6743/6743 [==============================] - 2s 271us/step - loss: 0.0031 - accuracy: 0.9979\n",
      "Epoch 20/100\n",
      "6743/6743 [==============================] - 2s 266us/step - loss: 0.0139 - accuracy: 0.9950\n",
      "Epoch 21/100\n",
      "6743/6743 [==============================] - 2s 270us/step - loss: 0.0444 - accuracy: 0.9850\n",
      "Epoch 22/100\n",
      "6743/6743 [==============================] - 2s 263us/step - loss: 0.0124 - accuracy: 0.9954\n",
      "Epoch 23/100\n",
      "6743/6743 [==============================] - 2s 262us/step - loss: 0.0062 - accuracy: 0.9979\n",
      "Epoch 24/100\n",
      "6743/6743 [==============================] - 2s 263us/step - loss: 0.0050 - accuracy: 0.9985\n",
      "Epoch 25/100\n",
      "6743/6743 [==============================] - 2s 269us/step - loss: 0.0046 - accuracy: 0.9982\n",
      "Epoch 26/100\n",
      "6743/6743 [==============================] - 2s 259us/step - loss: 0.0048 - accuracy: 0.9987\n",
      "Epoch 27/100\n",
      "6743/6743 [==============================] - 2s 256us/step - loss: 0.0059 - accuracy: 0.9982\n",
      "Epoch 28/100\n",
      "6743/6743 [==============================] - 2s 259us/step - loss: 0.0078 - accuracy: 0.9985\n",
      "Epoch 29/100\n",
      "6743/6743 [==============================] - 2s 261us/step - loss: 0.0159 - accuracy: 0.9964\n",
      "Epoch 30/100\n",
      "6743/6743 [==============================] - 2s 266us/step - loss: 0.0387 - accuracy: 0.9872\n",
      "Epoch 31/100\n",
      "6743/6743 [==============================] - 2s 271us/step - loss: 0.0169 - accuracy: 0.9957\n",
      "Epoch 32/100\n",
      "6743/6743 [==============================] - 2s 278us/step - loss: 0.0050 - accuracy: 0.9979\n",
      "Epoch 33/100\n",
      "6743/6743 [==============================] - 2s 279us/step - loss: 0.0071 - accuracy: 0.9984\n",
      "Epoch 34/100\n",
      "6743/6743 [==============================] - 2s 231us/step - loss: 0.0024 - accuracy: 0.9991\n",
      "Epoch 35/100\n",
      "6743/6743 [==============================] - 2s 258us/step - loss: 0.0021 - accuracy: 0.9988\n",
      "Epoch 36/100\n",
      "6743/6743 [==============================] - 2s 260us/step - loss: 0.0020 - accuracy: 0.9990\n",
      "Epoch 37/100\n",
      "6743/6743 [==============================] - 2s 256us/step - loss: 0.0020 - accuracy: 0.9988\n",
      "Epoch 38/100\n",
      "6743/6743 [==============================] - 2s 262us/step - loss: 0.0021 - accuracy: 0.9990\n",
      "Epoch 39/100\n",
      "6743/6743 [==============================] - 2s 259us/step - loss: 0.0022 - accuracy: 0.9988\n",
      "Epoch 40/100\n",
      "6743/6743 [==============================] - 2s 255us/step - loss: 0.0020 - accuracy: 0.9990\n",
      "Epoch 41/100\n",
      "6743/6743 [==============================] - 2s 253us/step - loss: 0.0020 - accuracy: 0.9990\n",
      "Epoch 42/100\n",
      "6743/6743 [==============================] - 2s 255us/step - loss: 0.0019 - accuracy: 0.9990\n",
      "Epoch 43/100\n",
      "6743/6743 [==============================] - 2s 255us/step - loss: 0.0109 - accuracy: 0.9964\n",
      "Epoch 44/100\n",
      "6743/6743 [==============================] - 2s 255us/step - loss: 0.0375 - accuracy: 0.9865\n",
      "Epoch 45/100\n",
      "6743/6743 [==============================] - 2s 255us/step - loss: 0.0101 - accuracy: 0.9966\n",
      "Epoch 46/100\n",
      "6743/6743 [==============================] - 2s 255us/step - loss: 0.0025 - accuracy: 0.9985\n",
      "Epoch 47/100\n",
      "6743/6743 [==============================] - 2s 256us/step - loss: 0.0021 - accuracy: 0.9988\n",
      "Epoch 48/100\n",
      "6743/6743 [==============================] - 2s 255us/step - loss: 0.0020 - accuracy: 0.9987\n",
      "Epoch 49/100\n",
      "6743/6743 [==============================] - 2s 251us/step - loss: 0.0020 - accuracy: 0.9990\n",
      "Epoch 50/100\n",
      "6743/6743 [==============================] - 2s 254us/step - loss: 0.0020 - accuracy: 0.9990\n",
      "Epoch 51/100\n",
      "6743/6743 [==============================] - 2s 256us/step - loss: 0.0019 - accuracy: 0.9988\n",
      "Epoch 52/100\n",
      "6743/6743 [==============================] - 2s 249us/step - loss: 0.0019 - accuracy: 0.9988\n",
      "Epoch 53/100\n",
      "6743/6743 [==============================] - 2s 273us/step - loss: 0.0020 - accuracy: 0.9988\n",
      "Epoch 54/100\n",
      "6743/6743 [==============================] - 2s 259us/step - loss: 0.0020 - accuracy: 0.9990\n",
      "Epoch 55/100\n",
      "6743/6743 [==============================] - 2s 264us/step - loss: 0.0020 - accuracy: 0.9990\n",
      "Epoch 56/100\n",
      "6743/6743 [==============================] - 2s 252us/step - loss: 0.0019 - accuracy: 0.9990\n",
      "Epoch 57/100\n",
      "6743/6743 [==============================] - 2s 262us/step - loss: 0.0037 - accuracy: 0.9987\n",
      "Epoch 58/100\n",
      "6743/6743 [==============================] - 2s 253us/step - loss: 0.0262 - accuracy: 0.9936\n",
      "Epoch 59/100\n",
      "6743/6743 [==============================] - 2s 266us/step - loss: 0.0093 - accuracy: 0.9975\n",
      "Epoch 60/100\n",
      "6743/6743 [==============================] - 2s 257us/step - loss: 0.0046 - accuracy: 0.9984\n",
      "Epoch 61/100\n",
      "6743/6743 [==============================] - 2s 254us/step - loss: 0.0022 - accuracy: 0.9990\n",
      "Epoch 62/100\n",
      "6743/6743 [==============================] - 2s 249us/step - loss: 0.0021 - accuracy: 0.9990\n",
      "Epoch 63/100\n",
      "6743/6743 [==============================] - 2s 258us/step - loss: 0.0020 - accuracy: 0.9990\n",
      "Epoch 64/100\n",
      "6743/6743 [==============================] - 2s 276us/step - loss: 0.0021 - accuracy: 0.9990\n",
      "Epoch 65/100\n",
      "6743/6743 [==============================] - 2s 271us/step - loss: 0.0019 - accuracy: 0.9990\n",
      "Epoch 66/100\n",
      "6743/6743 [==============================] - 2s 259us/step - loss: 0.0020 - accuracy: 0.9990\n",
      "Epoch 67/100\n",
      "6743/6743 [==============================] - 2s 276us/step - loss: 0.0019 - accuracy: 0.9990\n",
      "Epoch 68/100\n",
      "6743/6743 [==============================] - 2s 260us/step - loss: 0.0023 - accuracy: 0.9988\n",
      "Epoch 69/100\n",
      "6743/6743 [==============================] - 2s 256us/step - loss: 0.0057 - accuracy: 0.9985\n",
      "Epoch 70/100\n",
      "6743/6743 [==============================] - 2s 258us/step - loss: 0.0209 - accuracy: 0.9938\n",
      "Epoch 71/100\n",
      "6743/6743 [==============================] - 2s 264us/step - loss: 0.0134 - accuracy: 0.9961\n",
      "Epoch 72/100\n",
      "6743/6743 [==============================] - 2s 263us/step - loss: 0.0047 - accuracy: 0.9985\n",
      "Epoch 73/100\n",
      "6743/6743 [==============================] - 2s 264us/step - loss: 0.0021 - accuracy: 0.9990\n",
      "Epoch 74/100\n",
      "6743/6743 [==============================] - 2s 265us/step - loss: 0.0023 - accuracy: 0.9988\n",
      "Epoch 75/100\n",
      "6743/6743 [==============================] - 2s 265us/step - loss: 0.0021 - accuracy: 0.9988\n",
      "Epoch 76/100\n",
      "6743/6743 [==============================] - 2s 267us/step - loss: 0.0026 - accuracy: 0.9985\n",
      "Epoch 77/100\n",
      "6743/6743 [==============================] - 2s 269us/step - loss: 0.0023 - accuracy: 0.9987\n",
      "Epoch 78/100\n",
      "6743/6743 [==============================] - 2s 259us/step - loss: 0.0021 - accuracy: 0.9990\n",
      "Epoch 79/100\n",
      "6743/6743 [==============================] - 2s 287us/step - loss: 0.0021 - accuracy: 0.9990\n",
      "Epoch 80/100\n",
      "6743/6743 [==============================] - 2s 237us/step - loss: 0.0022 - accuracy: 0.9988\n",
      "Epoch 81/100\n",
      "6743/6743 [==============================] - 2s 260us/step - loss: 0.0019 - accuracy: 0.9987\n",
      "Epoch 82/100\n",
      "6743/6743 [==============================] - 2s 263us/step - loss: 0.0027 - accuracy: 0.9987\n",
      "Epoch 83/100\n",
      "6743/6743 [==============================] - 2s 262us/step - loss: 0.0022 - accuracy: 0.9987\n",
      "Epoch 84/100\n",
      "6743/6743 [==============================] - 2s 261us/step - loss: 0.0020 - accuracy: 0.9990\n",
      "Epoch 85/100\n",
      "6743/6743 [==============================] - 2s 265us/step - loss: 0.0018 - accuracy: 0.9990\n",
      "Epoch 86/100\n",
      "6743/6743 [==============================] - 2s 267us/step - loss: 0.0024 - accuracy: 0.9988\n",
      "Epoch 87/100\n",
      "6743/6743 [==============================] - 2s 264us/step - loss: 0.0024 - accuracy: 0.9988\n",
      "Epoch 88/100\n",
      "6743/6743 [==============================] - 2s 268us/step - loss: 0.0020 - accuracy: 0.9990\n",
      "Epoch 89/100\n",
      "6743/6743 [==============================] - 2s 279us/step - loss: 0.0021 - accuracy: 0.9987\n",
      "Epoch 90/100\n",
      "6743/6743 [==============================] - 2s 277us/step - loss: 0.0110 - accuracy: 0.9969\n",
      "Epoch 91/100\n",
      "6743/6743 [==============================] - 2s 274us/step - loss: 0.0272 - accuracy: 0.9944\n",
      "Epoch 92/100\n",
      "6743/6743 [==============================] - 2s 267us/step - loss: 0.0091 - accuracy: 0.9975\n",
      "Epoch 93/100\n",
      "6743/6743 [==============================] - 2s 270us/step - loss: 0.0050 - accuracy: 0.9985\n",
      "Epoch 94/100\n",
      "6743/6743 [==============================] - 2s 265us/step - loss: 0.0020 - accuracy: 0.9987\n",
      "Epoch 95/100\n",
      "6743/6743 [==============================] - 2s 268us/step - loss: 0.0020 - accuracy: 0.9990\n",
      "Epoch 96/100\n",
      "6743/6743 [==============================] - 2s 251us/step - loss: 0.0019 - accuracy: 0.9988\n",
      "Epoch 97/100\n",
      "6743/6743 [==============================] - 2s 266us/step - loss: 0.0020 - accuracy: 0.9988\n",
      "Epoch 98/100\n",
      "6743/6743 [==============================] - 2s 259us/step - loss: 0.0019 - accuracy: 0.9990\n",
      "Epoch 99/100\n",
      "6743/6743 [==============================] - 2s 259us/step - loss: 0.0021 - accuracy: 0.9987\n",
      "Epoch 100/100\n",
      "6743/6743 [==============================] - 2s 255us/step - loss: 0.0027 - accuracy: 0.9987\n"
     ]
    },
    {
     "data": {
      "text/plain": [
       "<keras.callbacks.callbacks.History at 0x1d49cb519e8>"
      ]
     },
     "execution_count": 7,
     "metadata": {},
     "output_type": "execute_result"
    }
   ],
   "source": [
    "import keras\n",
    "from keras.models import Sequential\n",
    "from keras.layers import Dense\n",
    "\n",
    "# Initialising the ANN\n",
    "classifier = Sequential()\n",
    "\n",
    "# Adding the input layer and the first hidden layer\n",
    "classifier.add(Dense(units = 128, kernel_initializer = 'uniform', activation = 'relu', input_dim = 512))\n",
    "\n",
    "# Adding the second hidden layer\n",
    "classifier.add(Dense(units = 64, kernel_initializer = 'uniform', activation = 'relu'))\n",
    "\n",
    "classifier.add(Dense(units = 32, kernel_initializer = 'uniform', activation = 'relu'))\n",
    "\n",
    "# Adding the output layer\n",
    "classifier.add(Dense(units = 1, kernel_initializer = 'uniform', activation = 'sigmoid'))\n",
    "\n",
    "# Compiling the ANN\n",
    "classifier.compile(optimizer = 'adam', loss = 'binary_crossentropy', metrics = ['accuracy'])\n",
    "\n",
    "# Fitting the ANN to the Training set\n",
    "classifier.fit(X_train, y_train, batch_size = 10, epochs = 100)"
   ]
  },
  {
   "cell_type": "markdown",
   "metadata": {},
   "source": [
    "## Predicting the Test set results"
   ]
  },
  {
   "cell_type": "code",
   "execution_count": 8,
   "metadata": {},
   "outputs": [],
   "source": [
    "y_pred = classifier.predict(X_test)\n",
    "y_pred = (y_pred > 0.5)"
   ]
  },
  {
   "cell_type": "markdown",
   "metadata": {},
   "source": [
    "## Making the Confusion Matrix"
   ]
  },
  {
   "cell_type": "code",
   "execution_count": 9,
   "metadata": {},
   "outputs": [
    {
     "name": "stdout",
     "output_type": "stream",
     "text": [
      "[[2011   67]\n",
      " [  89   81]]\n",
      "              precision    recall  f1-score   support\n",
      "\n",
      "           0       0.96      0.97      0.96      2078\n",
      "           1       0.55      0.48      0.51       170\n",
      "\n",
      "   micro avg       0.93      0.93      0.93      2248\n",
      "   macro avg       0.75      0.72      0.74      2248\n",
      "weighted avg       0.93      0.93      0.93      2248\n",
      "\n"
     ]
    }
   ],
   "source": [
    "from sklearn.metrics import confusion_matrix\n",
    "cm = confusion_matrix(y_test, y_pred)\n",
    "\n",
    "print(cm)\n",
    "print(classification_report(y_test, y_pred) )"
   ]
  },
  {
   "cell_type": "markdown",
   "metadata": {},
   "source": [
    "## Conclusions\n",
    "### As the result shows, we were able to use Keras to get a score of 0.9987"
   ]
  },
  {
   "cell_type": "markdown",
   "metadata": {},
   "source": [
    "\n",
    "\n",
    "\n",
    "\n",
    "\n"
   ]
  },
  {
   "cell_type": "markdown",
   "metadata": {},
   "source": [
    "\n",
    "\n",
    "\n",
    "\n",
    "\n",
    "\n"
   ]
  },
  {
   "cell_type": "markdown",
   "metadata": {},
   "source": [
    "\n",
    "\n",
    "\n",
    "\n"
   ]
  },
  {
   "cell_type": "markdown",
   "metadata": {},
   "source": [
    "\n",
    "\n",
    "\n",
    "\n",
    "\n",
    "\n"
   ]
  },
  {
   "cell_type": "markdown",
   "metadata": {},
   "source": [
    "\n",
    "\n",
    "\n",
    "\n",
    "\n",
    "\n"
   ]
  },
  {
   "cell_type": "markdown",
   "metadata": {},
   "source": [
    "\n",
    "\n",
    "\n",
    "\n",
    "\n",
    "\n"
   ]
  },
  {
   "cell_type": "markdown",
   "metadata": {},
   "source": [
    "\n",
    "\n",
    "\n",
    "\n",
    "\n",
    "\n"
   ]
  }
 ],
 "metadata": {
  "kernelspec": {
   "display_name": "Python 3",
   "language": "python",
   "name": "python3"
  },
  "language_info": {
   "codemirror_mode": {
    "name": "ipython",
    "version": 3
   },
   "file_extension": ".py",
   "mimetype": "text/x-python",
   "name": "python",
   "nbconvert_exporter": "python",
   "pygments_lexer": "ipython3",
   "version": "3.7.1"
  }
 },
 "nbformat": 4,
 "nbformat_minor": 2
}
